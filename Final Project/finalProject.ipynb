{
 "metadata": {
  "language_info": {
   "codemirror_mode": {
    "name": "ipython",
    "version": 3
   },
   "file_extension": ".py",
   "mimetype": "text/x-python",
   "name": "python",
   "nbconvert_exporter": "python",
   "pygments_lexer": "ipython3",
   "version": "3.7.0"
  },
  "orig_nbformat": 2,
  "kernelspec": {
   "name": "python370jvsc74a57bd0aee8b7b246df8f9039afb4144a1f6fd8d2ca17a180786b69acc140d282b71a49",
   "display_name": "Python 3.7.0 64-bit"
  },
  "metadata": {
   "interpreter": {
    "hash": "aee8b7b246df8f9039afb4144a1f6fd8d2ca17a180786b69acc140d282b71a49"
   }
  }
 },
 "nbformat": 4,
 "nbformat_minor": 2,
 "cells": [
  {
   "cell_type": "code",
   "execution_count": 1,
   "metadata": {},
   "outputs": [],
   "source": [
    "import time\n",
    "from selenium.webdriver import Chrome\n",
    "from selenium.webdriver.common.by import By\n",
    "from selenium.webdriver.common.keys import Keys\n",
    "from selenium.webdriver.support.ui import WebDriverWait\n",
    "from selenium.webdriver.support import expected_conditions as EC\n",
    "\n"
   ]
  },
  {
   "cell_type": "code",
   "execution_count": 2,
   "metadata": {},
   "outputs": [],
   "source": [
    "def get_comments_url(url):\n",
    "    data = []\n",
    "    with Chrome() as driver:\n",
    "        wait = WebDriverWait(driver,15)\n",
    "        driver.get(url)\n",
    "\n",
    "        for item in range(13): \n",
    "            wait.until(EC.visibility_of_element_located((By.TAG_NAME, \"body\"))).send_keys(Keys.END)\n",
    "            time.sleep(5)\n",
    "\n",
    "        for comment in wait.until(EC.presence_of_all_elements_located((By.CSS_SELECTOR, \"#content\"))):\n",
    "            data.append(comment.text)\n",
    "    return data"
   ]
  },
  {
   "cell_type": "code",
   "execution_count": 3,
   "metadata": {},
   "outputs": [],
   "source": [
    "data_chipu = get_comments_url(\"https://www.youtube.com/watch?v=3fi7uwBU-CE\")\n",
    "data_hoaminzy = get_comments_url(\"https://www.youtube.com/watch?v=qiI4XNUoiyg\")\n",
    "data_huakimtuyen = get_comments_url(\"https://www.youtube.com/watch?v=BdPk9ipvczM\")\n",
    "data_donuocmam = get_comments_url(\"https://www.youtube.com/watch?v=JVNAOwijwII\")\n",
    "\n"
   ]
  },
  {
   "cell_type": "code",
   "execution_count": 4,
   "metadata": {},
   "outputs": [],
   "source": [
    "#smoth data\n",
    "import pandas as pd  \n",
    "def smoth(data): \n",
    "    df = pd.DataFrame(data, columns=['comment'])\n",
    "    df.drop({0,1}, axis=0, inplace=True)\n",
    "    df.head()\n",
    "    return df"
   ]
  },
  {
   "cell_type": "code",
   "execution_count": 5,
   "metadata": {},
   "outputs": [
    {
     "output_type": "error",
     "ename": "NameError",
     "evalue": "name 'data_chipu' is not defined",
     "traceback": [
      "\u001b[0;31m---------------------------------------------------------------------------\u001b[0m",
      "\u001b[0;31mNameError\u001b[0m                                 Traceback (most recent call last)",
      "\u001b[0;32m<ipython-input-5-be9a474a0e4e>\u001b[0m in \u001b[0;36m<module>\u001b[0;34m\u001b[0m\n\u001b[0;32m----> 1\u001b[0;31m \u001b[0mdata_chipu\u001b[0m \u001b[0;34m=\u001b[0m \u001b[0msmoth\u001b[0m\u001b[0;34m(\u001b[0m\u001b[0mdata_chipu\u001b[0m\u001b[0;34m)\u001b[0m\u001b[0;34m\u001b[0m\u001b[0m\n\u001b[0m\u001b[1;32m      2\u001b[0m \u001b[0mdata_hoaminzy\u001b[0m \u001b[0;34m=\u001b[0m \u001b[0msmoth\u001b[0m\u001b[0;34m(\u001b[0m\u001b[0mdata_hoaminzy\u001b[0m\u001b[0;34m)\u001b[0m\u001b[0;34m\u001b[0m\u001b[0m\n\u001b[1;32m      3\u001b[0m \u001b[0mdata_huakimtuyen\u001b[0m \u001b[0;34m=\u001b[0m \u001b[0msmoth\u001b[0m\u001b[0;34m(\u001b[0m\u001b[0mdata_huakimtuyen\u001b[0m\u001b[0;34m)\u001b[0m\u001b[0;34m\u001b[0m\u001b[0m\n",
      "\u001b[0;31mNameError\u001b[0m: name 'data_chipu' is not defined"
     ]
    }
   ],
   "source": [
    "data_chipu = smoth(data_chipu)\n",
    "data_hoaminzy = smoth(data_hoaminzy)\n",
    "data_huakimtuyen = smoth(data_huakimtuyen)"
   ]
  },
  {
   "cell_type": "code",
   "execution_count": 7,
   "metadata": {},
   "outputs": [],
   "source": [
    "#wirte data\n",
    "import xlsxwriter\n",
    "def writeData(data, file_path):\n",
    "    workbook = xlsxwriter.Workbook(file_path)\n",
    "    worksheet = workbook.add_worksheet()\n",
    "    row = 0\n",
    "    count = 0\n",
    "    worksheet.write(row, 1, \"comment\")\n",
    "    for doc  in data.comment:\n",
    "        row = row +1\n",
    "        worksheet.write(row, 0, count)\n",
    "        worksheet.write(row, 1, doc)\n",
    "        count = count +1\n",
    "    workbook.close()"
   ]
  },
  {
   "cell_type": "code",
   "execution_count": 8,
   "metadata": {},
   "outputs": [],
   "source": [
    "writeData(data_chipu, \"comments_chipu.xlsx\")\n",
    "writeData(data_hoaminzy, \"comments_hoaminzy.xlsx\")\n",
    "writeData(data_huakimtuyen, \"comments_huakimtuyen.xlsx\")\n",
    "\n",
    "writeData(data_donuocmam,\"comments_donuocman.xlsx\")"
   ]
  },
  {
   "cell_type": "code",
   "execution_count": null,
   "metadata": {},
   "outputs": [],
   "source": []
  }
 ]
}